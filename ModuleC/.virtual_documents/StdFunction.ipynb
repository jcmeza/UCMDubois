








import numpy as np
import pandas as pd
import matplotlib as plot





num_samples = 10000


x = [np.random.normal(150,5) for _ in range(num_samples)]





truemean = np.mean(x)
truemean


truestd = np.std(x)
truestd


# According to the python documentation the std is computed from the formula:
# In general both the mean and standard deviation are divided by N = num_samples unless
# the degree of freedom (dof) variable is set to some value different than the 
# default of dof=0.

xmean = np.sum(x)/num_samples
std = np.sqrt(np.sum(np.abs(x - xmean)**2)/num_samples)

std








#
# Note that in order to be consistent with python we will use m instead of m-1 in the 
# denominator for the standard deviation formula

m = len(x)

sumx = 0.0
for i in range(0, m) :
    sumx += x[i]
meanx = sumx/m

sumx2 = 0.0
for i in range(0, m) :
    sumx2 += (x[i] - meanx)**2
var = sumx2/(m)
stdx = np.sqrt(var)
print ("the mean of the %d numbers is %20.16f and the std is %20.16f" % (m, meanx, stdx))





#
# Note that in order to be consistent with python we will use m instead of m-1 in the 
# denominator for the standard deviation formula

m = len(x)

sumx = 0.0
sumx2 = 0.0
for i in range(0, m) :
    sumx += x[i]
    sumx2 += x[i]**2
meanx = sumx/m
#var   = (sumx2/(m-1)) - meanx**2
var = (sumx2 - meanx*sumx)/(m)
stdx  = np.sqrt(var)

print ("the mean of the %d numbers is %20.16f and the std is %20.16f" % (m, meanx, stdx))








# Read in the data set and take a quick look at it.

import pandas as pd
bmidata = pd.read_csv('NHANESChildObesity.csv')
print(bmidata)


# Let's select only the BMI data for the computation for this example.
# We'll grab all of the rows using the ":" notation, and we select the BMXBMI column through the second parameter.
# Note: In general, we wouldn't go to this much trouble and instead just reference the correct column, 
# but in the interests of clarity and exposition we'll pull out the data from the original data set.

x = bmidata.loc[:,['BMXBMI']]
x = x.to_numpy()
m = len(x)
print ("the number of BMI measurements is %d." % (m))


# Now let's compute the mean and std. deviation for the BMI using Algorithm 1.
m = len(x)

sumx = 0.0
for i in range(0, m) :
    sumx += x[i]
bmimean = sumx/m

sumx2 = 0.0
for i in range(0, m) :
    sumx2 += (x[i] - bmimean)**2
var = sumx2/m
bmistd = np.sqrt(var)

print ("the mean of the BMI is %15.12f and the std dev is %15.12f" % (bmimean, bmistd))


# Now let's compute the mean and std. deviation for the BMI using Algorithm 2.
m = len(x)

sumx = 0.0
sumx2 = 0.0
for i in range(0, m) :
    sumx += x[i]
    sumx2 += x[i]**2
    
bmimean2 = sumx/m
bmivar2 = (sumx2 - bmimean2*sumx)/m
bmistd2  = np.sqrt(var)

print ("the mean of the BMI is %15.12f and the std dev is %15.12f" % (bmimean2, bmistd2))












