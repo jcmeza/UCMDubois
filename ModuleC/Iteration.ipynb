{
 "cells": [
  {
   "cell_type": "markdown",
   "id": "94613ef0-bf7c-40fd-a97a-eaa3660a1e35",
   "metadata": {},
   "source": [
    "# Iteration Module: Childhood Obesity"
   ]
  },
  {
   "cell_type": "markdown",
   "id": "74201f39-f0df-460c-9481-24dc80e0433b",
   "metadata": {},
   "source": [
    "## Summary\n",
    "\n",
    "According to the WHO website, \"Overweight and obesity are defined as abnormal or excessive fat accumulation that presents a risk to health ... The issue has grown to epidemic proportions, with over 4 million people dying each year as a result of being overweight or obese in 2017 according to the global burden of disease.\" (https://www.who.int/health-topics/obesity#tab=tab_1). This issue is particularly concerning in the case of children, where the prevalence of obesity has increased worldwide over the past 50 years. (Abarca-Gomez et al.)\n",
    "\n",
    "One popular measure of obesity is the body mass index (BMI), which can be calculated from a simple formula given a person's height and weight. In particular, the BMI is given by:\n",
    "$$\n",
    "BMI = \\frac{weight}{height^2},\n",
    "$$ where weight is measured in kilograms and height is in meters.\n",
    "\n",
    "Generally, a BMI over 25 is considered overweight, and over 30 is obese. \n",
    "\n",
    "In order to understand this phenomena we will take a look at data compiled by the CDC and NHANES (National Health and Nutrition Estimation Survey). We will be using some standard statistical techniques to analyze BMI in the population namely: the mean and the standard deviation. \n",
    "\n",
    "Although the data could easily be obtained through other means, we will compute these values ourselves as a way to learn about iterations, control,  functions, and algorithms."
   ]
  },
  {
   "cell_type": "markdown",
   "id": "36481b85-3b66-4fb6-a889-d3023266a603",
   "metadata": {},
   "source": [
    "## Module Goals\n",
    "In this module we will cover the following concepts:\n",
    "\n",
    "| Area         | Topics Covered|\n",
    "|--------------|:-----:|\n",
    "| CS |  Iterations |\n",
    "| Social      |  Reliability and validity, fairness, precision |\n",
    "| Ethics      | Fairness, Privacy, Equity vs. Equality |\n",
    "| Data Sets   | Prepping and cleaning data |\n",
    "\n"
   ]
  },
  {
   "cell_type": "markdown",
   "id": "1a78890c-1415-41fc-988b-d63ac0e07745",
   "metadata": {},
   "source": [
    "### Research Questions\n",
    "Some questions that naturally arise in the context of this data include:\n",
    "1. Are there any differences in obesity among different age groups?\n",
    "2. Are there any differences between different ethnic groups?\n",
    "3. Are there any differences in gender, i.e. between boys and girls?\n",
    "4. How do socio-economic differences affect obesity?\n",
    "5. How does weight vary over a six-month period?\n",
    "6. How does weight vary between men based on height?\n",
    "7. How does weight vary between women based on height?\n",
    "8. How does weight vary among peri-menopausal women and pre-menopausal women?"
   ]
  },
  {
   "cell_type": "markdown",
   "id": "fab284e7-07d5-4383-a959-8d8873a9bb98",
   "metadata": {},
   "source": [
    "<div class=\"alert alert-block alert-success\">\n",
    "<b>Exercise:</b>\n",
    "    \n",
    "Can you think of other research questions that you might want to consider.  Use your own experiences and suggest 1-2 other questions that interest you.\n",
    "\n",
    "</div>"
   ]
  },
  {
   "cell_type": "markdown",
   "id": "df7fd8a4-a0c4-47e4-ac7c-4d964481938b",
   "metadata": {},
   "source": [
    "### Ethics Questions\n",
    "1. What should the role of public health be (if any) in treating childhood obesity?\n",
    "2. What ethical obligations do parents have to protect their children?\n",
    "3. What is the right balance between individual rights and liberty-limiting public policies to promote the public health?"
   ]
  },
  {
   "cell_type": "markdown",
   "id": "7a7a75aa-1ae8-4bd1-b466-5a23d5ea6ca2",
   "metadata": {},
   "source": [
    "<div class=\"alert alert-block alert-success\">\n",
    "<b>Discussion:</b>\n",
    "    \n",
    "This is a good point to break the class down into smaller groups and discuss these (and other) ethics questions.\n",
    "\n",
    "</div>"
   ]
  },
  {
   "cell_type": "markdown",
   "id": "7c9be0f4-a258-46b1-b774-a82f6a582d3b",
   "metadata": {},
   "source": [
    "## Setup\n",
    "\n",
    "Let's now proceed in developing some basic codes that will help us start to answer some of the questions we posed.  \n",
    "\n",
    "In order to do the necessary calculations, we will have need of several python libraries.  The following three in particular will be used in almost all of our notebooks. Running the cell below will allow us to access some of the necessary algorithms that will make our coding easier."
   ]
  },
  {
   "cell_type": "code",
   "execution_count": 9,
   "id": "572bb2cb-8e81-4d20-b752-0b530d28f6a5",
   "metadata": {},
   "outputs": [],
   "source": [
    "import numpy as np\n",
    "import pandas as pd\n",
    "import matplotlib as plot"
   ]
  },
  {
   "cell_type": "markdown",
   "id": "fc5fb9d4-17d8-4c24-8aa1-bb1cfecdbd11",
   "metadata": {},
   "source": [
    "### Data\n",
    "\n",
    "In any analysis, we need to start with some data, for example let's suppose we have a list of weights from a set of people in a study. \n",
    "\n",
    "In step 2 we will read data from a national survey administered by the CDC. For the time being however, let's just generate a random set of weights so we can more easily work with (and understand) our results.  \n",
    "\n",
    "For this smalle exercise, we will generate weigths taken from a Gaussian distribution with mean 120 (pounds) and standard deviation of 5."
   ]
  },
  {
   "cell_type": "code",
   "execution_count": 10,
   "id": "cb5a4d2b-5a14-4c1b-9e3b-b1d9ee6f7365",
   "metadata": {},
   "outputs": [],
   "source": [
    "num_samples = 100\n",
    "x = [np.random.normal(120,5) for _ in range(num_samples)]"
   ]
  },
  {
   "cell_type": "markdown",
   "id": "2b98c8f1-5c41-4a8a-8416-399380aa66df",
   "metadata": {},
   "source": [
    "Python allows us to easily compute the mean and standard deviation through some functions provided in the numpy library (more on functions in a subsequent module). Let's check to see what the values look like."
   ]
  },
  {
   "cell_type": "code",
   "execution_count": 11,
   "id": "d2e33d8a-ea89-47ec-8b95-cba7a1375dc6",
   "metadata": {
    "tags": []
   },
   "outputs": [
    {
     "data": {
      "text/plain": [
       "119.53996374481854"
      ]
     },
     "execution_count": 11,
     "metadata": {},
     "output_type": "execute_result"
    }
   ],
   "source": [
    "truemean = np.mean(x)\n",
    "truemean"
   ]
  },
  {
   "cell_type": "code",
   "execution_count": 12,
   "id": "5245c1f1-a5c1-4a91-9e55-4c481f6ea5a8",
   "metadata": {},
   "outputs": [
    {
     "data": {
      "text/plain": [
       "5.180076626232874"
      ]
     },
     "execution_count": 12,
     "metadata": {},
     "output_type": "execute_result"
    }
   ],
   "source": [
    "truestd = np.std(x)\n",
    "truestd"
   ]
  },
  {
   "cell_type": "markdown",
   "id": "2ca76d62-daa0-4efe-8002-378a6a53cbd0",
   "metadata": {},
   "source": [
    "As we can see, the values from the random sample of 100 generated values is close to what we specified, although not exact.  This is the nature of a random sample after all."
   ]
  },
  {
   "cell_type": "markdown",
   "id": "62e7cb8d-a811-4f2f-a419-d4be93c69c34",
   "metadata": {},
   "source": [
    "<div class=\"alert alert-block alert-success\">\n",
    "<b>Tip:</b>\n",
    "If you like, you may want to run the cells above several times and see for yourself how the numbers change.\n",
    "</div>"
   ]
  },
  {
   "cell_type": "markdown",
   "id": "ba047f2f-2ee1-4fc9-9d51-ba85510a21f3",
   "metadata": {},
   "source": [
    "In the next step, we will demonstrate how to compute these values using a concept known as **iteration.**"
   ]
  },
  {
   "cell_type": "markdown",
   "id": "daf3ad8e-2b30-48f5-b101-6e477c074196",
   "metadata": {},
   "source": [
    "# Iterations: two different algorithms for computing standard deviation\n",
    "\n",
    "The standard deviation of a sample data set is helpful in understanding the spread of the data from the mean (average). Like the mean, it is computed through standard formulas although there are variations on how one can compute it.\n",
    "\n",
    "Here we will look at two different versions that are mathematically equivalent, and yet will sometimes give different results."
   ]
  },
  {
   "cell_type": "markdown",
   "id": "9465cc71-6765-44c2-b939-fc2bba63a1ff",
   "metadata": {},
   "source": [
    "## Algorithm 1\n",
    "\n",
    "Let's now try what is known as the two-pass version for computing the standard deviation.  The first step is use to compute the mean. In the second control loop, the standard deviation is computed as sum of squares of the original data after normalizing by subtracting the mean.\n",
    "\n",
    "The equations we will use are:\n",
    "$$\n",
    "\\begin{aligned}\n",
    "\\bar{x} &= \\frac{1}{m} \\sum_i^m {x_i} \\\\\n",
    "s_2^2 &= \\frac{1}{m-1} \\sum_i^m ( {x_i} - \\bar{x})^2\n",
    "\\end{aligned}\n",
    "$$\n",
    "\n",
    "N.B. These are the standard equations used in most statistics textbooks.\n",
    "\n",
    "In order to compute these quantitites, we first introduce the concept of an ***iteration*** in python. \n",
    "\n",
    "Let's first consider the computation of the mean."
   ]
  },
  {
   "cell_type": "code",
   "execution_count": 13,
   "id": "62600826-7914-4a78-8bf0-cab6c0f1c3e4",
   "metadata": {},
   "outputs": [
    {
     "name": "stdout",
     "output_type": "stream",
     "text": [
      "the mean of the 100 numbers is 119.5399637448185644\n"
     ]
    }
   ],
   "source": [
    "#\n",
    "# Note that in order to be consistent with python we will use m instead of m-1 in the \n",
    "# denominator for the standard deviation formula\n",
    "\n",
    "m = len(x)\n",
    "\n",
    "sumx = 0.0\n",
    "for i in range(0, m) :\n",
    "    sumx += x[i]\n",
    "meanx = sumx/m\n",
    "\n",
    "print (\"the mean of the %d numbers is %20.16f\" % (m, meanx))"
   ]
  },
  {
   "cell_type": "markdown",
   "id": "217e71e9-d2ea-47bf-b4d0-356ae23ff363",
   "metadata": {},
   "source": [
    "Here we are using a construction known as a loop, specifically a ***\"for loop\"*** to compute the mean. The for loop specifies a variable known as an iterator, in this case the variable \"i\".  The variable is given values in the ***\"range\"*** between 0 and m. The loop then proceeds to execute the lines inside the for loop, in each case taking on a new value.  \n",
    "\n",
    "In our example, we are simply adding the entry x[i] to a running sum (sumx). Once the for loop has evaluated that piece of code for each value within the range, the loop terminates.\n",
    "\n",
    "At the end of the loop, the variable sumx contains the sum of all the entries of x[i], for i=0, 1, ..., m-1.\n",
    "\n",
    "We then proceed to divide by the number of terms in the sum, which gives us the mean as described by the equation above.\n"
   ]
  },
  {
   "cell_type": "markdown",
   "id": "0618aad6-992a-4791-a3ae-b2f12f3e4f68",
   "metadata": {},
   "source": [
    "We can do a similar exercise to compute the standard deviation given by the second equation. Note that we needed to compute the mean first in order to compute the quantity in this second loop."
   ]
  },
  {
   "cell_type": "code",
   "execution_count": 14,
   "id": "e3c1784b-6337-409d-95a0-255fc25fa6f1",
   "metadata": {},
   "outputs": [
    {
     "name": "stdout",
     "output_type": "stream",
     "text": [
      "the std of the 100 numbers is   5.1800766262328750\n"
     ]
    }
   ],
   "source": [
    "#\n",
    "# Note that in order to be consistent with python we will use m instead of m-1 in the \n",
    "# denominator for the standard deviation formula\n",
    "\n",
    "m = len(x)\n",
    "\n",
    "sumx2 = 0.0\n",
    "for i in range(0, m) :\n",
    "    sumx2 += (x[i] - meanx)**2\n",
    "var = sumx2/(m)\n",
    "stdx = np.sqrt(var)\n",
    "print (\"the std of the %d numbers is %20.16f\" % (m, stdx))"
   ]
  },
  {
   "cell_type": "markdown",
   "id": "4308168e-a192-4a8c-8076-a541fd865941",
   "metadata": {},
   "source": [
    "## Algorithm 2\n",
    "\n",
    "It is not hard to show that the above formula for the standard deviation can be written as:\n",
    "$$\n",
    "\\begin{aligned}\n",
    "\\bar{x} &= \\frac{1}{m} \\sum_i^m {x_i} \\\\\n",
    "s_2^2 &= \\frac{1}{m-1}\\left ( \\sum_i^m {x_i}^2 \\right ) - {\\bar{x}}^2 \n",
    "\\end{aligned}\n",
    "$$\n",
    "\n",
    "Computationally, this seems like a good choice, because we can write code for this formulation that computes everything in one for loop, which increases its computational efficiency."
   ]
  },
  {
   "cell_type": "code",
   "execution_count": 15,
   "id": "e05acc3c-8abc-4539-b711-ef144c4f9737",
   "metadata": {},
   "outputs": [
    {
     "name": "stdout",
     "output_type": "stream",
     "text": [
      "the mean of the 100 numbers is 119.5399637448185644 and the std is   5.1800766262324283\n"
     ]
    }
   ],
   "source": [
    "#\n",
    "# Note that in order to be consistent with python we will use m instead of m-1 in the \n",
    "# denominator for the standard deviation formula\n",
    "\n",
    "m = len(x)\n",
    "\n",
    "sumx = 0.0\n",
    "sumx2 = 0.0\n",
    "for i in range(0, m) :\n",
    "    sumx += x[i]\n",
    "    sumx2 += x[i]**2\n",
    "meanx = sumx/m\n",
    "#var   = (sumx2/(m-1)) - meanx**2\n",
    "var = (sumx2 - meanx*sumx)/(m)\n",
    "stdx  = np.sqrt(var)\n",
    "\n",
    "print (\"the mean of the %d numbers is %20.16f and the std is %20.16f\" % (m, meanx, stdx))"
   ]
  },
  {
   "cell_type": "markdown",
   "id": "b29257ac-5e8e-4690-a0d6-f9174694e3e3",
   "metadata": {},
   "source": [
    "Notice that while the mean of the numbers appears to be the same up to at least 15 digits, the standard deviation is different at around the 12th digit.  As the number of samples increases, we can expect that this difference might become even larger."
   ]
  },
  {
   "cell_type": "markdown",
   "id": "6e58069c-6d7d-4ada-a2ad-6d1b9a7aa206",
   "metadata": {
    "tags": []
   },
   "source": [
    "### Part 2: NHANES Data\n",
    "\n",
    "Now let's try to compute the mean and standard deviation for a real-world data set. The file we will use is a slightly cleaned up version of a data set downloaded from the NHANES (National Health and Nutrition Examination Survey) web site: https://www.cdc.gov/nchs/nhanes/index.htm\n",
    "\n",
    "The particular data set chosen was the 2017- March 2020 Pre-Pandemic Examination Data - Continuous NHANES for Body Measures, P_BMX.xpt (https://wwwn.cdc.gov/Nchs/Nhanes/2017-2018/P_BMX.XPT). The main changes to the csv file here is that only 5 variables were chosen from the original data set and all of the \"NA\"s were removed to make it easier to compute the statistics.\n",
    "\n",
    "Note: We can supply the short python file that created the csv file from the xpt file on the NHANES web pages if needed."
   ]
  },
  {
   "cell_type": "code",
   "execution_count": 16,
   "id": "0a064bec-09dd-4597-a40c-e118db90e432",
   "metadata": {},
   "outputs": [
    {
     "name": "stdout",
     "output_type": "stream",
     "text": [
      "       Unnamed: 0    SEQN  BMDBMIC  BMXBMI  BMXHT  BMXWAIST  BMXWT\n",
      "0               1  109263      NaN     NaN    NaN       NaN    NaN\n",
      "1               2  109264      2.0    17.6  154.7      63.8   42.2\n",
      "2               3  109265      2.0    15.0   89.3      41.2   12.0\n",
      "3               4  109266      NaN    37.8  160.2     117.9   97.1\n",
      "4               5  109269      NaN     NaN    NaN       NaN   13.6\n",
      "...           ...     ...      ...     ...    ...       ...    ...\n",
      "14295       14296  124818      NaN    38.2  168.7     114.7  108.8\n",
      "14296       14297  124819      3.0    17.5   93.7      48.4   15.4\n",
      "14297       14298  124820      2.0    15.1  123.3      57.5   22.9\n",
      "14298       14299  124821      NaN    25.5  176.4      97.1   79.5\n",
      "14299       14300  124822      NaN    21.3  167.5      86.9   59.7\n",
      "\n",
      "[14300 rows x 7 columns]\n"
     ]
    }
   ],
   "source": [
    "# Read in the data set and take a quick look at it.\n",
    "\n",
    "import pandas as pd\n",
    "bmidata = pd.read_csv('NHANESBMI.csv')\n",
    "print(bmidata)"
   ]
  },
  {
   "cell_type": "code",
   "execution_count": 17,
   "id": "cd554f95-79b5-4672-966d-4b17e9601aa1",
   "metadata": {},
   "outputs": [
    {
     "name": "stdout",
     "output_type": "stream",
     "text": [
      "the number of BMI measurements is 14300.\n"
     ]
    }
   ],
   "source": [
    "# Let's select only the BMI data for the computation for this example.\n",
    "# We'll grab all of the rows using the \":\" notation, and we select the BMXBMI column through the second parameter.\n",
    "# Note: In general, we wouldn't go to this much trouble and instead just reference the correct column, \n",
    "# but in the interests of clarity and exposition we'll pull out the data from the original data set.\n",
    "\n",
    "x = bmidata.loc[:,['BMXBMI']]\n",
    "x = x.to_numpy()\n",
    "m = len(x)\n",
    "print (\"the number of BMI measurements is %d.\" % (m))"
   ]
  },
  {
   "cell_type": "code",
   "execution_count": 18,
   "id": "950185e3-9353-4b91-9b02-c210119c2a2d",
   "metadata": {},
   "outputs": [
    {
     "name": "stdout",
     "output_type": "stream",
     "text": [
      "the mean of the BMI is             nan and the std dev is             nan\n"
     ]
    }
   ],
   "source": [
    "# Now let's compute the mean and std. deviation for the BMI using Algorithm 1.\n",
    "m = len(x)\n",
    "\n",
    "sumx = 0.0\n",
    "for i in range(0, m) :\n",
    "    sumx += x[i]\n",
    "bmimean = sumx/m\n",
    "\n",
    "sumx2 = 0.0\n",
    "for i in range(0, m) :\n",
    "    sumx2 += (x[i] - bmimean)**2\n",
    "var = sumx2/m\n",
    "bmistd = np.sqrt(var)\n",
    "\n",
    "print (\"the mean of the BMI is %15.12f and the std dev is %15.12f\" % (bmimean, bmistd))"
   ]
  },
  {
   "cell_type": "code",
   "execution_count": 19,
   "id": "4be8cd54-c78d-4a26-a96e-5917cfaf769c",
   "metadata": {},
   "outputs": [
    {
     "name": "stdout",
     "output_type": "stream",
     "text": [
      "the mean of the BMI is             nan and the std dev is             nan\n"
     ]
    }
   ],
   "source": [
    "# Now let's compute the mean and std. deviation for the BMI using Algorithm 2.\n",
    "m = len(x)\n",
    "\n",
    "sumx = 0.0\n",
    "sumx2 = 0.0\n",
    "for i in range(0, m) :\n",
    "    sumx += x[i]\n",
    "    sumx2 += x[i]**2\n",
    "    \n",
    "bmimean2 = sumx/m\n",
    "bmivar2 = (sumx2 - bmimean2*sumx)/m\n",
    "bmistd2  = np.sqrt(var)\n",
    "\n",
    "print (\"the mean of the BMI is %15.12f and the std dev is %15.12f\" % (bmimean2, bmistd2))"
   ]
  },
  {
   "cell_type": "code",
   "execution_count": null,
   "id": "78b3b7a5",
   "metadata": {},
   "outputs": [],
   "source": []
  },
  {
   "cell_type": "markdown",
   "id": "12e4524a",
   "metadata": {},
   "source": [
    "## Case Study\n",
    "\n",
    "\n",
    "A recent article (1) in Science magazine discusses obesity and argues that it is now a global pandemic. The article also highlights some unanswered questions regarding the causes of this health issue and the lack of a general consensus.  \n",
    "\n",
    "In this article, the authors say, \"It is presently unclear what social and physical factors in the environment are driving increased obesity prevalence. Physical changes in the food environment have likely been important contributors to increasing obesity prevalence, but ***the most important factors in food that induce obesity remain unknown.***\"\n",
    "\n",
    "Interestingly, they also point out that there are strong sociological factors at play - \"A strong environmental correlate of obesity is social adversity, including poverty, particularly in high-income countries (2).\"  Pointing to changes in the environment and society, the authors indicate that both of these may play a role in physical activity, which has declined in the USA since the 1950s even as leisure-time has increased. However, these trends vary widely within and across populations so it is difficult to make any definitive conclusions.\n",
    "\n",
    "\n",
    "\n",
    "1. John R. Speakman et al., *Unanswered questions about the causes of obesity*. Science 381,944-946(2023).DOI:10.1126/science.adg2718\n",
    "\n",
    "2. Hemmingsson E, Nowicka P, Ulijaszek S, Sørensen TIA. The social origins of obesity within and across generations. Obes Rev. 2023 Jan;24(1):e13514. doi: 10.1111/obr.13514. Epub 2022 Nov 2. PMID: 36321346; PMCID: PMC10077989.\n"
   ]
  },
  {
   "cell_type": "markdown",
   "id": "4a302053",
   "metadata": {},
   "source": [
    "\n",
    "\n",
    "A recent article in Science magazine discusses obesity and argues that it is now a global pandemic. The article also highlights some unanswered questions regarding the causes of this health issue and the lack of a general consensus.  \n",
    "\n",
    "In this article, the authors say, \"It is presently unclear what social and physical factors in the environment are driving increased obesity prevalence. Physical changes in the food environment have likely been important contributors to increasing obesity prevalence, but ***the most important factors in food that induce obesity remain unknown.***\"\n",
    "\n",
    "Interestingly, they also point out that there are strong sociological factors at play - \"A strong environmental correlate of obesity is social adversity, including poverty, particularly in high-income countries (2).\"  Pointing to changes in the environment and society, the authors indicate that both of these may play a role in physical activity, which has declined in the USA since the 1950s even as leisure-time has increased. However, these trends vary widely within and across populations so it is difficult to make any definitive conclusions.\n",
    "\n",
    "\n",
    "\n",
    "1. John R. Speakman et al., *Unanswered questions about the causes of obesity*. Science 381,944-946(2023).DOI:10.1126/science.adg2718\n",
    "\n",
    "2. Hemmingsson E, Nowicka P, Ulijaszek S, Sørensen TIA. *The social origins of obesity within and across generations.* Obes Rev. 2023 Jan;24(1):e13514. doi: 10.1111/obr.13514. Epub 2022 Nov 2. PMID: 36321346; PMCID: PMC10077989.\n"
   ]
  },
  {
   "cell_type": "markdown",
   "id": "124d2370-10cd-4847-8e36-de50d292f370",
   "metadata": {},
   "source": [
    "## Summary\n",
    "\n",
    "It appears that both versions of the algorithm will return similar values for the mean and the standard deviation. However, this is not always the case, and care should be taken when using the formulas."
   ]
  },
  {
   "cell_type": "code",
   "execution_count": null,
   "id": "32eb4a97",
   "metadata": {},
   "outputs": [],
   "source": []
  },
  {
   "cell_type": "markdown",
   "id": "3b9fa38a-1a4a-45b8-8667-132f60afb9f3",
   "metadata": {},
   "source": [
    "<div class=\"alert alert-block alert-info\">\n",
    "<b>To Do:</b>\n",
    "    \n",
    "Other things to try:\n",
    "1. Convert either/both algorithms to a function, callable with just the variable containing the data as an input variable.\n",
    "2. Convert to a function that computes the mean and std dev for all of the variables/columns in a data frame\n",
    "3. Create a data set for which the two algorithms do in fact return different values\n",
    "4. Allow the inclusion of NAs in the data set when calling the function.\n",
    "\n",
    "</div>"
   ]
  },
  {
   "cell_type": "markdown",
   "id": "c6850d34-24b4-46bd-97ee-3d05a509422a",
   "metadata": {},
   "source": [
    "### References\n",
    "1. Worldwide trends in body-mass index, underweight, overweight, and obesity from 1975 to 2016: a pooled analysis of 2416 population-based measurement studies in 128·9 million children, adolescents, and adults. Lancet. 2017 Dec 16;390(10113):2627-2642. doi: 10.1016/S0140-6736(17)32129-3. Epub 2017 Oct 10. PMID: 29029897; PMCID: PMC5735219.\n",
    "2. Computing standard deviations: accuracy, Chan and Lewis, Communications of the ACM, Vol. 22, No. 9, September 1979."
   ]
  },
  {
   "cell_type": "markdown",
   "id": "8738bb4c-37b2-462d-83a5-a453383a84da",
   "metadata": {},
   "source": [
    "*NSF Dubois Project*\n",
    "\n",
    "*Module C: Vivian Carter, Deb Nolan, Roummel Marcia, Juan C. Meza*\n",
    "*Date: January 22, 2024*"
   ]
  }
 ],
 "metadata": {
  "kernelspec": {
   "display_name": "Python 3 (ipykernel)",
   "language": "python",
   "name": "python3"
  },
  "language_info": {
   "codemirror_mode": {
    "name": "ipython",
    "version": 3
   },
   "file_extension": ".py",
   "mimetype": "text/x-python",
   "name": "python",
   "nbconvert_exporter": "python",
   "pygments_lexer": "ipython3",
   "version": "3.11.4"
  }
 },
 "nbformat": 4,
 "nbformat_minor": 5
}
