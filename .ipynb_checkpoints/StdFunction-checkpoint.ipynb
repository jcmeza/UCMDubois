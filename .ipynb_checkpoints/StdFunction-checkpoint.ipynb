{
 "cells": [
  {
   "cell_type": "markdown",
   "id": "94613ef0-bf7c-40fd-a97a-eaa3660a1e35",
   "metadata": {},
   "source": [
    "# Childhood Obesity"
   ]
  },
  {
   "cell_type": "markdown",
   "id": "ecee6072-465f-4ba9-ad13-d8d021c7230c",
   "metadata": {},
   "source": [
    "According to the WHO website, \"Overweight and obesity are defined as abnormal or excessive fat accumulation that presents a risk to health. A body mass index (BMI) over 25 is considered overweight, and over 30 is obese. The issue has grown to epidemic proportions, with over 4 million people dying each year as a result of being overweight or obese in 2017 according to the global burden of disease.\" (https://www.who.int/health-topics/obesity#tab=tab_1). This is particularly concerning in the case of children, where the prevalence of obesity has increased worldwide over the past 50 years. (Abarca-Gomez et al.)\n",
    "\n"
   ]
  },
  {
   "cell_type": "markdown",
   "id": "7c9be0f4-a258-46b1-b774-a82f6a582d3b",
   "metadata": {},
   "source": [
    "### Setup\n",
    "\n",
    "Import some python libraries needed for this module"
   ]
  },
  {
   "cell_type": "code",
   "execution_count": 2,
   "id": "572bb2cb-8e81-4d20-b752-0b530d28f6a5",
   "metadata": {},
   "outputs": [],
   "source": [
    "import numpy as np\n",
    "import pandas as pd\n",
    "import matplotlib as plot"
   ]
  },
  {
   "cell_type": "markdown",
   "id": "fc5fb9d4-17d8-4c24-8aa1-bb1cfecdbd11",
   "metadata": {},
   "source": [
    "### Data\n",
    "\n",
    "Let's first suppose we have a list of weights from a set of people in a study. For now we'll just randomly generate such a data set. In step two we will read it in from some known data source (CDC/NHANES).\n",
    "\n",
    "For the time being however, let's just generate a random sample of 20 numbers taken from a Gaussian distribution with mean 150 and standard deviation of 25."
   ]
  },
  {
   "cell_type": "code",
   "execution_count": 14,
   "id": "dac3d2b0-26da-496a-8558-e31441e4341b",
   "metadata": {},
   "outputs": [],
   "source": [
    "x = [np.random.normal(150,25) for _ in range(20)]"
   ]
  },
  {
   "cell_type": "markdown",
   "id": "2b98c8f1-5c41-4a8a-8416-399380aa66df",
   "metadata": {},
   "source": [
    "Let's check to see what the values look like"
   ]
  },
  {
   "cell_type": "code",
   "execution_count": 15,
   "id": "d2e33d8a-ea89-47ec-8b95-cba7a1375dc6",
   "metadata": {},
   "outputs": [
    {
     "data": {
      "text/plain": [
       "[142.09897559047124,\n",
       " 113.04021794156598,\n",
       " 137.03803731224423,\n",
       " 142.40583303822518,\n",
       " 156.21152212193667,\n",
       " 131.65796178755264,\n",
       " 146.20778267172435,\n",
       " 113.57431725097422,\n",
       " 132.60701673043516,\n",
       " 148.29257761887737,\n",
       " 138.6112702627988,\n",
       " 169.77431175756348,\n",
       " 157.56515820385877,\n",
       " 140.40155674794002,\n",
       " 146.11935808021076,\n",
       " 93.5174796144043,\n",
       " 186.354371587525,\n",
       " 132.3611572956132,\n",
       " 157.08820632853383,\n",
       " 148.84427201127642]"
      ]
     },
     "execution_count": 15,
     "metadata": {},
     "output_type": "execute_result"
    }
   ],
   "source": [
    "x"
   ]
  },
  {
   "cell_type": "markdown",
   "id": "daf3ad8e-2b30-48f5-b101-6e477c074196",
   "metadata": {},
   "source": [
    "# Two different algorithms for computing standard deviation"
   ]
  },
  {
   "cell_type": "markdown",
   "id": "32495d43-443d-482a-9ae2-4f0fc1753432",
   "metadata": {},
   "source": [
    "## Algorithm 1\n",
    "\n",
    "We'll first try what is known as the two-pass version for computing the standard deviation.  The first step is use to compute the mean. In the second control loop, the standard deviation is computed as sum of squares of the original data after normalizing by subtracting the mean."
   ]
  },
  {
   "cell_type": "code",
   "execution_count": 16,
   "id": "62600826-7914-4a78-8bf0-cab6c0f1c3e4",
   "metadata": {},
   "outputs": [],
   "source": [
    "m = len(x)\n",
    "\n",
    "sumx = 0.0\n",
    "for i in range(0, m) :\n",
    "    sumx += x[i]\n",
    "meanx = sumx/m\n",
    "\n",
    "sumx2 = 0.0\n",
    "for i in range(0, m) :\n",
    "    sumx2 += (x[i] - meanx)**2\n",
    "var = sumx2/(m-1)\n",
    "stdx = np.sqrt(var)"
   ]
  },
  {
   "cell_type": "markdown",
   "id": "30ae0a66-d8d8-4643-ab71-59113d247a24",
   "metadata": {},
   "source": [
    "### Now let's see the result of Algorithm 1"
   ]
  },
  {
   "cell_type": "code",
   "execution_count": 20,
   "id": "08375817-0673-4561-8cc4-0e771ef7c3b8",
   "metadata": {},
   "outputs": [
    {
     "name": "stdout",
     "output_type": "stream",
     "text": [
      "the mean of the 20 numbers is      141.689 and the std is       20.331\n"
     ]
    }
   ],
   "source": [
    "print (\"the mean of the %d numbers is %12.3f and the std is %12.3f\" % (m, meanx, stdx))"
   ]
  },
  {
   "cell_type": "markdown",
   "id": "ee9617da-642e-480c-b4a9-cc578ee1789c",
   "metadata": {},
   "source": [
    "## Algorithm 2\n",
    "\n",
    "Now we'll try the second formulation, which computes everything in one for loop."
   ]
  },
  {
   "cell_type": "code",
   "execution_count": 18,
   "id": "e05acc3c-8abc-4539-b711-ef144c4f9737",
   "metadata": {},
   "outputs": [],
   "source": [
    "m = len(x)\n",
    "\n",
    "sumx = 0.0\n",
    "sumx2 = 0.0\n",
    "for i in range(0, m) :\n",
    "    sumx += x[i]\n",
    "    sumx2 += x[i]**2\n",
    "meanx = sumx/m\n",
    "var   = (sumx2 - sumx*meanx)/(m-1)\n",
    "stdx  = np.sqrt(var)"
   ]
  },
  {
   "cell_type": "code",
   "execution_count": 21,
   "id": "6c5ec6db-a109-4802-8247-e8a8dcfb6124",
   "metadata": {},
   "outputs": [
    {
     "name": "stdout",
     "output_type": "stream",
     "text": [
      "the mean of the 20 numbers is      141.689 and the std is       20.331\n"
     ]
    }
   ],
   "source": [
    "print (\"the mean of the %d numbers is %12.3f and the std is %12.3f\" % (m, meanx, stdx))"
   ]
  },
  {
   "cell_type": "markdown",
   "id": "6e58069c-6d7d-4ada-a2ad-6d1b9a7aa206",
   "metadata": {},
   "source": [
    "### NHANES Data\n",
    "\n",
    "Now let's try to compute the mean and standard deviation for a real-world data set. The file we will use is a slightly cleaned up version of a data set downloaded from the NHANES (National Health and Nutrition Examination Survey) web site: https://www.cdc.gov/nchs/nhanes/index.htm\n",
    "\n",
    "The particular data set chosen was the 2017- March 2020 Pre-Pandemic Examination Data - Continuous NHANES for Body Measures, P_BMX.xpt (https://wwwn.cdc.gov/Nchs/Nhanes/2017-2018/P_BMX.XPT). The main changes to the csv file here is that only 5 variables were chosen from the original data set and all of the \"NA\"s were removed to make it easier to compute the statistics.\n"
   ]
  },
  {
   "cell_type": "code",
   "execution_count": 76,
   "id": "0a064bec-09dd-4597-a40c-e118db90e432",
   "metadata": {},
   "outputs": [
    {
     "name": "stdout",
     "output_type": "stream",
     "text": [
      "      Unnamed: 0  BMDBMIC  BMXBMI  BMXHT  BMXWAIST  BMXWT\n",
      "0              2        2    17.6  154.7      63.8   42.2\n",
      "1              3        2    15.0   89.3      41.2   12.0\n",
      "2              6        4    30.9  156.0      91.4   75.3\n",
      "3             13        2    18.6  162.0      67.6   48.7\n",
      "4             14        2    16.3  112.0      59.2   20.5\n",
      "...          ...      ...     ...    ...       ...    ...\n",
      "4485       14270        4    21.2   94.5      53.8   18.9\n",
      "4486       14276        2    15.8  117.2      57.7   21.7\n",
      "4487       14285        2    16.0   98.8      48.7   15.6\n",
      "4488       14297        3    17.5   93.7      48.4   15.4\n",
      "4489       14298        2    15.1  123.3      57.5   22.9\n",
      "\n",
      "[4490 rows x 6 columns]\n"
     ]
    }
   ],
   "source": [
    "# Read in the data set and take a quick look at it.\n",
    "\n",
    "import pandas as pd\n",
    "bmidata = pd.read_csv('NHANESChildObesity.csv')\n",
    "print(bmidata)"
   ]
  },
  {
   "cell_type": "code",
   "execution_count": 71,
   "id": "cd554f95-79b5-4672-966d-4b17e9601aa1",
   "metadata": {},
   "outputs": [
    {
     "name": "stdout",
     "output_type": "stream",
     "text": [
      "the number of BMI measurements is 4490.\n"
     ]
    }
   ],
   "source": [
    "# Let's select only the BMI data for the computation for this example.\n",
    "# We'll grab all of the rows using the \":\" notation, and we select the BMXBMI column through the second parameter.\n",
    "# Note: In general, we wouldn't go to this much trouble and instead just reference the correct column, \n",
    "# but in the interests of clarity and exposition we'll pull out the data from the original data set.\n",
    "\n",
    "x = bmidata.loc[:,['BMXBMI']]\n",
    "x = x.to_numpy()\n",
    "m = len(x)\n",
    "print (\"the number of BMI measurements is %d.\" % (m))"
   ]
  },
  {
   "cell_type": "code",
   "execution_count": 74,
   "id": "950185e3-9353-4b91-9b02-c210119c2a2d",
   "metadata": {},
   "outputs": [
    {
     "name": "stdout",
     "output_type": "stream",
     "text": [
      "the mean of the BMI is       20.809 and the std dev is        6.261\n"
     ]
    }
   ],
   "source": [
    "# Now let's compute the mean and std. deviation for the BMI using Algorithm 1.\n",
    "m = len(x)\n",
    "\n",
    "sumx = 0.0\n",
    "for i in range(0, m) :\n",
    "    sumx += x[i]\n",
    "bmimean = sumx/m\n",
    "\n",
    "sumx2 = 0.0\n",
    "for i in range(0, m) :\n",
    "    sumx2 += (x[i] - bmimean)**2\n",
    "var = sumx2/(m-1)\n",
    "bmistd = np.sqrt(var)\n",
    "\n",
    "print (\"the mean of the BMI is %12.3f and the std dev is %12.3f\" % (bmimean, bmistd))"
   ]
  },
  {
   "cell_type": "code",
   "execution_count": 75,
   "id": "4be8cd54-c78d-4a26-a96e-5917cfaf769c",
   "metadata": {},
   "outputs": [
    {
     "name": "stdout",
     "output_type": "stream",
     "text": [
      "the mean of the BMI is       20.809 and the std dev is        6.261\n"
     ]
    }
   ],
   "source": [
    "# Now let's compute the mean and std. deviation for the BMI using Algorithm 2.\n",
    "m = len(x)\n",
    "\n",
    "sumx = 0.0\n",
    "sumx2 = 0.0\n",
    "for i in range(0, m) :\n",
    "    sumx += x[i]\n",
    "    sumx2 += x[i]**2\n",
    "    \n",
    "bmimean = sumx/m\n",
    "bmivar  = (sumx2 - sumx*bmimean)/(m-1)\n",
    "bmistd  = np.sqrt(var)\n",
    "\n",
    "print (\"the mean of the BMI is %12.3f and the std dev is %12.3f\" % (bmimean, bmistd))"
   ]
  },
  {
   "cell_type": "markdown",
   "id": "124d2370-10cd-4847-8e36-de50d292f370",
   "metadata": {},
   "source": [
    "### Summary\n",
    "\n",
    "It appears that both versions of the algorithm will return similar values for the mean and the standard deviation. However, this is not always the case, and care should be taken when using the formulas."
   ]
  },
  {
   "cell_type": "markdown",
   "id": "c0882fa1-2f96-4fb1-b01e-b284e3510e85",
   "metadata": {},
   "source": [
    "### To Do\n",
    "\n",
    "Other things to try:\n",
    "1. Convert either/both algorithms to a function, callable with just the variable containing the data as an input variable.\n",
    "2. Convert to a function that computes the mean and std dev for all of the variables/columns in a data frame\n",
    "3. Create a data set for which the two algorithms do in fact return different values\n",
    "4. Allow the inclusion of NAs in the data set when calling the function."
   ]
  },
  {
   "cell_type": "markdown",
   "id": "c6850d34-24b4-46bd-97ee-3d05a509422a",
   "metadata": {},
   "source": [
    "### References\n",
    "1. Worldwide trends in body-mass index, underweight, overweight, and obesity from 1975 to 2016: a pooled analysis of 2416 population-based measurement studies in 128·9 million children, adolescents, and adults. Lancet. 2017 Dec 16;390(10113):2627-2642. doi: 10.1016/S0140-6736(17)32129-3. Epub 2017 Oct 10. PMID: 29029897; PMCID: PMC5735219.\n",
    "2. Computing standard deviations: accuracy, Chan and Lewis, Communications of the ACM, Vol. 22, No. 9, September 1979."
   ]
  },
  {
   "cell_type": "markdown",
   "id": "8738bb4c-37b2-462d-83a5-a453383a84da",
   "metadata": {},
   "source": [
    "*NSF Dubois Project*\n",
    "\n",
    "*Module C: Vivian Carter, Deb Nolan, Roummel Marcia, Juan C. Meza*\n",
    "*Date: September 11, 2023*"
   ]
  }
 ],
 "metadata": {
  "kernelspec": {
   "display_name": "Python 3 (ipykernel)",
   "language": "python",
   "name": "python3"
  },
  "language_info": {
   "codemirror_mode": {
    "name": "ipython",
    "version": 3
   },
   "file_extension": ".py",
   "mimetype": "text/x-python",
   "name": "python",
   "nbconvert_exporter": "python",
   "pygments_lexer": "ipython3",
   "version": "3.9.12"
  }
 },
 "nbformat": 4,
 "nbformat_minor": 5
}
