{
 "cells": [
  {
   "cell_type": "markdown",
   "id": "4407be76-2808-4d0d-9b4c-9e63ddbd7767",
   "metadata": {},
   "source": [
    "## Two different algorithms for computing standard deviation"
   ]
  },
  {
   "cell_type": "code",
   "execution_count": 3,
   "id": "7779826c-5ced-4ce5-a75b-72888d512dea",
   "metadata": {},
   "outputs": [],
   "source": [
    "import numpy as np\n",
    "import pandas as pd\n",
    "import matplotlib as plot"
   ]
  },
  {
   "cell_type": "markdown",
   "id": "e0903362-54a5-46ee-aff6-be42067d37be",
   "metadata": {},
   "source": [
    "According to the WHO website, \"Overweight and obesity are defined as abnormal or excessive fat accumulation that presents a risk to health. A body mass index (BMI) over 25 is considered overweight, and over 30 is obese. The issue has grown to epidemic proportions, with over 4 million people dying each year as a result of being overweight or obese in 2017 according to the global burden of disease.\" (https://www.who.int/health-topics/obesity#tab=tab_1). This is particularly concerning in the case of children, where the prevalence of obesity has increased worldwide over the past 50 years. (Abarca-Gomez et al.)\n",
    "\n",
    "Let's first suppose we have a list of weights from a set of people in a study. For now we'll just randomly generate such a data set but we could also read it in from some known data source, like the CDC or NIH."
   ]
  },
  {
   "cell_type": "code",
   "execution_count": 52,
   "id": "dac3d2b0-26da-496a-8558-e31441e4341b",
   "metadata": {},
   "outputs": [],
   "source": [
    "x = [np.random.normal(150,25) for _ in range(10)]"
   ]
  },
  {
   "cell_type": "markdown",
   "id": "2b98c8f1-5c41-4a8a-8416-399380aa66df",
   "metadata": {},
   "source": [
    "Let's check to see what the values look like"
   ]
  },
  {
   "cell_type": "code",
   "execution_count": 53,
   "id": "d2e33d8a-ea89-47ec-8b95-cba7a1375dc6",
   "metadata": {},
   "outputs": [
    {
     "data": {
      "text/plain": [
       "[159.3438911085101,\n",
       " 168.0982253784365,\n",
       " 154.5402964740126,\n",
       " 159.20057454228927,\n",
       " 200.3071952429942,\n",
       " 127.25406223662847,\n",
       " 143.56187416027652,\n",
       " 130.9271378048466,\n",
       " 164.9796926216428,\n",
       " 157.89464249691486]"
      ]
     },
     "execution_count": 53,
     "metadata": {},
     "output_type": "execute_result"
    }
   ],
   "source": [
    "x"
   ]
  },
  {
   "cell_type": "markdown",
   "id": "a5777f81-d4cd-45a0-8cf3-e2b5956ae36b",
   "metadata": {},
   "source": [
    "Let's now compute the mean and standard deviation using the builtin functions provided by python (numpy)."
   ]
  },
  {
   "cell_type": "markdown",
   "id": "32495d43-443d-482a-9ae2-4f0fc1753432",
   "metadata": {},
   "source": [
    "## Algorithm 1\n",
    "\n",
    "We'll first try the two-pass version for computing the standard deviation"
   ]
  },
  {
   "cell_type": "code",
   "execution_count": 66,
   "id": "62600826-7914-4a78-8bf0-cab6c0f1c3e4",
   "metadata": {},
   "outputs": [],
   "source": [
    "m = len(x)\n",
    "\n",
    "sumx = 0.0\n",
    "for i in range(0, m) :\n",
    "    sumx += x[i]\n",
    "meanx = sumx/m\n",
    "\n",
    "sumx2 = 0.0\n",
    "for i in range(0, m) :\n",
    "    sumx2 += (x[i] - meanx)**2\n",
    "var = sumx2/(m-1)\n",
    "stdx = np.sqrt(var)"
   ]
  },
  {
   "cell_type": "markdown",
   "id": "30ae0a66-d8d8-4643-ab71-59113d247a24",
   "metadata": {},
   "source": [
    "### Now let's see the result of Algorithm 1"
   ]
  },
  {
   "cell_type": "code",
   "execution_count": 69,
   "id": "08375817-0673-4561-8cc4-0e771ef7c3b8",
   "metadata": {},
   "outputs": [
    {
     "ename": "NameError",
     "evalue": "name 'printf' is not defined",
     "output_type": "error",
     "traceback": [
      "\u001b[0;31m---------------------------------------------------------------------------\u001b[0m",
      "\u001b[0;31mNameError\u001b[0m                                 Traceback (most recent call last)",
      "Input \u001b[0;32mIn [69]\u001b[0m, in \u001b[0;36m<cell line: 1>\u001b[0;34m()\u001b[0m\n\u001b[0;32m----> 1\u001b[0m \u001b[43mprintf\u001b[49m (\u001b[38;5;124m\"\u001b[39m\u001b[38;5;124mthe mean of the \u001b[39m\u001b[38;5;132;01m%d\u001b[39;00m\u001b[38;5;124m numbers is \u001b[39m\u001b[38;5;132;01m%12.3f\u001b[39;00m\u001b[38;5;124m\"\u001b[39m, m, meanx)\n",
      "\u001b[0;31mNameError\u001b[0m: name 'printf' is not defined"
     ]
    }
   ],
   "source": [
    "printf (\"the mean of the %d numbers is %12.3f\", m, meanx)"
   ]
  },
  {
   "cell_type": "markdown",
   "id": "c6850d34-24b4-46bd-97ee-3d05a509422a",
   "metadata": {},
   "source": [
    "References\n",
    "1. Worldwide trends in body-mass index, underweight, overweight, and obesity from 1975 to 2016: a pooled analysis of 2416 population-based measurement studies in 128·9 million children, adolescents, and adults. Lancet. 2017 Dec 16;390(10113):2627-2642. doi: 10.1016/S0140-6736(17)32129-3. Epub 2017 Oct 10. PMID: 29029897; PMCID: PMC5735219."
   ]
  },
  {
   "cell_type": "code",
   "execution_count": null,
   "id": "3191ea8c-eb42-4edb-a56f-6005802b6b0d",
   "metadata": {},
   "outputs": [],
   "source": []
  },
  {
   "cell_type": "code",
   "execution_count": 68,
   "id": "74f6654e-623e-4851-bcbd-858d7e9ab1a1",
   "metadata": {},
   "outputs": [
    {
     "data": {
      "text/plain": [
       "20.61075565971724"
      ]
     },
     "execution_count": 68,
     "metadata": {},
     "output_type": "execute_result"
    }
   ],
   "source": []
  }
 ],
 "metadata": {
  "kernelspec": {
   "display_name": "Python 3 (ipykernel)",
   "language": "python",
   "name": "python3"
  },
  "language_info": {
   "codemirror_mode": {
    "name": "ipython",
    "version": 3
   },
   "file_extension": ".py",
   "mimetype": "text/x-python",
   "name": "python",
   "nbconvert_exporter": "python",
   "pygments_lexer": "ipython3",
   "version": "3.9.12"
  }
 },
 "nbformat": 4,
 "nbformat_minor": 5
}
